{
  "nbformat": 4,
  "nbformat_minor": 0,
  "metadata": {
    "colab": {
      "provenance": [],
      "authorship_tag": "ABX9TyP/KECgINcKTGXQ5HGxhlTW",
      "include_colab_link": true
    },
    "kernelspec": {
      "name": "python3",
      "display_name": "Python 3"
    },
    "language_info": {
      "name": "python"
    }
  },
  "cells": [
    {
      "cell_type": "markdown",
      "metadata": {
        "id": "view-in-github",
        "colab_type": "text"
      },
      "source": [
        "<a href=\"https://colab.research.google.com/github/KishorAlagappan/TakeHome-CaseStudy-2-Datasets/blob/main/TakeHome_CaseStudy.ipynb\" target=\"_parent\"><img src=\"https://colab.research.google.com/assets/colab-badge.svg\" alt=\"Open In Colab\"/></a>"
      ]
    },
    {
      "cell_type": "code",
      "execution_count": 28,
      "metadata": {
        "id": "C2Er-I13Eabb"
      },
      "outputs": [],
      "source": [
        "#importing libraries\n",
        "import pandas as pd \n",
        "import numpy as np"
      ]
    },
    {
      "cell_type": "code",
      "source": [
        "#Reading the dataset_1 (csv file)\n",
        "df1 = pd.read_csv('/content/takehome_users.csv',encoding='ISO-8859-1')"
      ],
      "metadata": {
        "id": "CqMISBE7OTnQ"
      },
      "execution_count": 29,
      "outputs": []
    },
    {
      "cell_type": "code",
      "source": [
        "df1.head()"
      ],
      "metadata": {
        "colab": {
          "base_uri": "https://localhost:8080/",
          "height": 357
        },
        "id": "504f9eIPOmtN",
        "outputId": "d081fa09-9d82-4bc1-d602-6c5369f0d2df"
      },
      "execution_count": null,
      "outputs": [
        {
          "output_type": "execute_result",
          "data": {
            "text/plain": [
              "   object_id        creation_time               name  \\\n",
              "0          1  2014-04-22 03:53:30     Clausen August   \n",
              "1          2  2013-11-15 03:45:04      Poole Matthew   \n",
              "2          3  2013-03-19 23:14:52  Bottrill Mitchell   \n",
              "3          4  2013-05-21 08:09:28    Clausen Nicklas   \n",
              "4          5  2013-01-17 10:14:20          Raw Grace   \n",
              "\n",
              "                        email creation_source  last_session_creation_time  \\\n",
              "0    AugustCClausen@yahoo.com    GUEST_INVITE                1.398139e+09   \n",
              "1      MatthewPoole@gustr.com      ORG_INVITE                1.396238e+09   \n",
              "2  MitchellBottrill@gustr.com      ORG_INVITE                1.363735e+09   \n",
              "3   NicklasSClausen@yahoo.com    GUEST_INVITE                1.369210e+09   \n",
              "4          GraceRaw@yahoo.com    GUEST_INVITE                1.358850e+09   \n",
              "\n",
              "   opted_in_to_mailing_list  enabled_for_marketing_drip  org_id  \\\n",
              "0                         1                           0      11   \n",
              "1                         0                           0       1   \n",
              "2                         0                           0      94   \n",
              "3                         0                           0       1   \n",
              "4                         0                           0     193   \n",
              "\n",
              "   invited_by_user_id  \n",
              "0             10803.0  \n",
              "1               316.0  \n",
              "2              1525.0  \n",
              "3              5151.0  \n",
              "4              5240.0  "
            ],
            "text/html": [
              "\n",
              "  <div id=\"df-aecd8b95-b2b3-4849-9cc3-4f8ce95033dc\">\n",
              "    <div class=\"colab-df-container\">\n",
              "      <div>\n",
              "<style scoped>\n",
              "    .dataframe tbody tr th:only-of-type {\n",
              "        vertical-align: middle;\n",
              "    }\n",
              "\n",
              "    .dataframe tbody tr th {\n",
              "        vertical-align: top;\n",
              "    }\n",
              "\n",
              "    .dataframe thead th {\n",
              "        text-align: right;\n",
              "    }\n",
              "</style>\n",
              "<table border=\"1\" class=\"dataframe\">\n",
              "  <thead>\n",
              "    <tr style=\"text-align: right;\">\n",
              "      <th></th>\n",
              "      <th>object_id</th>\n",
              "      <th>creation_time</th>\n",
              "      <th>name</th>\n",
              "      <th>email</th>\n",
              "      <th>creation_source</th>\n",
              "      <th>last_session_creation_time</th>\n",
              "      <th>opted_in_to_mailing_list</th>\n",
              "      <th>enabled_for_marketing_drip</th>\n",
              "      <th>org_id</th>\n",
              "      <th>invited_by_user_id</th>\n",
              "    </tr>\n",
              "  </thead>\n",
              "  <tbody>\n",
              "    <tr>\n",
              "      <th>0</th>\n",
              "      <td>1</td>\n",
              "      <td>2014-04-22 03:53:30</td>\n",
              "      <td>Clausen August</td>\n",
              "      <td>AugustCClausen@yahoo.com</td>\n",
              "      <td>GUEST_INVITE</td>\n",
              "      <td>1.398139e+09</td>\n",
              "      <td>1</td>\n",
              "      <td>0</td>\n",
              "      <td>11</td>\n",
              "      <td>10803.0</td>\n",
              "    </tr>\n",
              "    <tr>\n",
              "      <th>1</th>\n",
              "      <td>2</td>\n",
              "      <td>2013-11-15 03:45:04</td>\n",
              "      <td>Poole Matthew</td>\n",
              "      <td>MatthewPoole@gustr.com</td>\n",
              "      <td>ORG_INVITE</td>\n",
              "      <td>1.396238e+09</td>\n",
              "      <td>0</td>\n",
              "      <td>0</td>\n",
              "      <td>1</td>\n",
              "      <td>316.0</td>\n",
              "    </tr>\n",
              "    <tr>\n",
              "      <th>2</th>\n",
              "      <td>3</td>\n",
              "      <td>2013-03-19 23:14:52</td>\n",
              "      <td>Bottrill Mitchell</td>\n",
              "      <td>MitchellBottrill@gustr.com</td>\n",
              "      <td>ORG_INVITE</td>\n",
              "      <td>1.363735e+09</td>\n",
              "      <td>0</td>\n",
              "      <td>0</td>\n",
              "      <td>94</td>\n",
              "      <td>1525.0</td>\n",
              "    </tr>\n",
              "    <tr>\n",
              "      <th>3</th>\n",
              "      <td>4</td>\n",
              "      <td>2013-05-21 08:09:28</td>\n",
              "      <td>Clausen Nicklas</td>\n",
              "      <td>NicklasSClausen@yahoo.com</td>\n",
              "      <td>GUEST_INVITE</td>\n",
              "      <td>1.369210e+09</td>\n",
              "      <td>0</td>\n",
              "      <td>0</td>\n",
              "      <td>1</td>\n",
              "      <td>5151.0</td>\n",
              "    </tr>\n",
              "    <tr>\n",
              "      <th>4</th>\n",
              "      <td>5</td>\n",
              "      <td>2013-01-17 10:14:20</td>\n",
              "      <td>Raw Grace</td>\n",
              "      <td>GraceRaw@yahoo.com</td>\n",
              "      <td>GUEST_INVITE</td>\n",
              "      <td>1.358850e+09</td>\n",
              "      <td>0</td>\n",
              "      <td>0</td>\n",
              "      <td>193</td>\n",
              "      <td>5240.0</td>\n",
              "    </tr>\n",
              "  </tbody>\n",
              "</table>\n",
              "</div>\n",
              "      <button class=\"colab-df-convert\" onclick=\"convertToInteractive('df-aecd8b95-b2b3-4849-9cc3-4f8ce95033dc')\"\n",
              "              title=\"Convert this dataframe to an interactive table.\"\n",
              "              style=\"display:none;\">\n",
              "        \n",
              "  <svg xmlns=\"http://www.w3.org/2000/svg\" height=\"24px\"viewBox=\"0 0 24 24\"\n",
              "       width=\"24px\">\n",
              "    <path d=\"M0 0h24v24H0V0z\" fill=\"none\"/>\n",
              "    <path d=\"M18.56 5.44l.94 2.06.94-2.06 2.06-.94-2.06-.94-.94-2.06-.94 2.06-2.06.94zm-11 1L8.5 8.5l.94-2.06 2.06-.94-2.06-.94L8.5 2.5l-.94 2.06-2.06.94zm10 10l.94 2.06.94-2.06 2.06-.94-2.06-.94-.94-2.06-.94 2.06-2.06.94z\"/><path d=\"M17.41 7.96l-1.37-1.37c-.4-.4-.92-.59-1.43-.59-.52 0-1.04.2-1.43.59L10.3 9.45l-7.72 7.72c-.78.78-.78 2.05 0 2.83L4 21.41c.39.39.9.59 1.41.59.51 0 1.02-.2 1.41-.59l7.78-7.78 2.81-2.81c.8-.78.8-2.07 0-2.86zM5.41 20L4 18.59l7.72-7.72 1.47 1.35L5.41 20z\"/>\n",
              "  </svg>\n",
              "      </button>\n",
              "      \n",
              "  <style>\n",
              "    .colab-df-container {\n",
              "      display:flex;\n",
              "      flex-wrap:wrap;\n",
              "      gap: 12px;\n",
              "    }\n",
              "\n",
              "    .colab-df-convert {\n",
              "      background-color: #E8F0FE;\n",
              "      border: none;\n",
              "      border-radius: 50%;\n",
              "      cursor: pointer;\n",
              "      display: none;\n",
              "      fill: #1967D2;\n",
              "      height: 32px;\n",
              "      padding: 0 0 0 0;\n",
              "      width: 32px;\n",
              "    }\n",
              "\n",
              "    .colab-df-convert:hover {\n",
              "      background-color: #E2EBFA;\n",
              "      box-shadow: 0px 1px 2px rgba(60, 64, 67, 0.3), 0px 1px 3px 1px rgba(60, 64, 67, 0.15);\n",
              "      fill: #174EA6;\n",
              "    }\n",
              "\n",
              "    [theme=dark] .colab-df-convert {\n",
              "      background-color: #3B4455;\n",
              "      fill: #D2E3FC;\n",
              "    }\n",
              "\n",
              "    [theme=dark] .colab-df-convert:hover {\n",
              "      background-color: #434B5C;\n",
              "      box-shadow: 0px 1px 3px 1px rgba(0, 0, 0, 0.15);\n",
              "      filter: drop-shadow(0px 1px 2px rgba(0, 0, 0, 0.3));\n",
              "      fill: #FFFFFF;\n",
              "    }\n",
              "  </style>\n",
              "\n",
              "      <script>\n",
              "        const buttonEl =\n",
              "          document.querySelector('#df-aecd8b95-b2b3-4849-9cc3-4f8ce95033dc button.colab-df-convert');\n",
              "        buttonEl.style.display =\n",
              "          google.colab.kernel.accessAllowed ? 'block' : 'none';\n",
              "\n",
              "        async function convertToInteractive(key) {\n",
              "          const element = document.querySelector('#df-aecd8b95-b2b3-4849-9cc3-4f8ce95033dc');\n",
              "          const dataTable =\n",
              "            await google.colab.kernel.invokeFunction('convertToInteractive',\n",
              "                                                     [key], {});\n",
              "          if (!dataTable) return;\n",
              "\n",
              "          const docLinkHtml = 'Like what you see? Visit the ' +\n",
              "            '<a target=\"_blank\" href=https://colab.research.google.com/notebooks/data_table.ipynb>data table notebook</a>'\n",
              "            + ' to learn more about interactive tables.';\n",
              "          element.innerHTML = '';\n",
              "          dataTable['output_type'] = 'display_data';\n",
              "          await google.colab.output.renderOutput(dataTable, element);\n",
              "          const docLink = document.createElement('div');\n",
              "          docLink.innerHTML = docLinkHtml;\n",
              "          element.appendChild(docLink);\n",
              "        }\n",
              "      </script>\n",
              "    </div>\n",
              "  </div>\n",
              "  "
            ]
          },
          "metadata": {},
          "execution_count": 6
        }
      ]
    },
    {
      "cell_type": "code",
      "source": [
        "df1.info()"
      ],
      "metadata": {
        "colab": {
          "base_uri": "https://localhost:8080/"
        },
        "id": "V4yohJ_JQDUE",
        "outputId": "5fdbebf4-93f2-4767-e71f-eceefafab86b"
      },
      "execution_count": 30,
      "outputs": [
        {
          "output_type": "stream",
          "name": "stdout",
          "text": [
            "<class 'pandas.core.frame.DataFrame'>\n",
            "RangeIndex: 12000 entries, 0 to 11999\n",
            "Data columns (total 10 columns):\n",
            " #   Column                      Non-Null Count  Dtype  \n",
            "---  ------                      --------------  -----  \n",
            " 0   object_id                   12000 non-null  int64  \n",
            " 1   creation_time               12000 non-null  object \n",
            " 2   name                        12000 non-null  object \n",
            " 3   email                       12000 non-null  object \n",
            " 4   creation_source             12000 non-null  object \n",
            " 5   last_session_creation_time  8823 non-null   float64\n",
            " 6   opted_in_to_mailing_list    12000 non-null  int64  \n",
            " 7   enabled_for_marketing_drip  12000 non-null  int64  \n",
            " 8   org_id                      12000 non-null  int64  \n",
            " 9   invited_by_user_id          6417 non-null   float64\n",
            "dtypes: float64(2), int64(4), object(4)\n",
            "memory usage: 937.6+ KB\n"
          ]
        }
      ]
    },
    {
      "cell_type": "code",
      "source": [
        "#Reading the dataset_2 (csv file)\n",
        "df2 = pd.read_csv('/content/takehome_user_engagement.csv',encoding='ISO-8859-1')"
      ],
      "metadata": {
        "id": "_il3Uee3QjBr"
      },
      "execution_count": 31,
      "outputs": []
    },
    {
      "cell_type": "code",
      "source": [
        "df2.head()"
      ],
      "metadata": {
        "colab": {
          "base_uri": "https://localhost:8080/",
          "height": 206
        },
        "id": "AyNs4xw8RONR",
        "outputId": "34480714-60dd-4d8f-9bba-e01fa85d8f37"
      },
      "execution_count": 32,
      "outputs": [
        {
          "output_type": "execute_result",
          "data": {
            "text/plain": [
              "            time_stamp  user_id  visited\n",
              "0  2014-04-22 03:53:30        1        1\n",
              "1  2013-11-15 03:45:04        2        1\n",
              "2  2013-11-29 03:45:04        2        1\n",
              "3  2013-12-09 03:45:04        2        1\n",
              "4  2013-12-25 03:45:04        2        1"
            ],
            "text/html": [
              "\n",
              "  <div id=\"df-535892ce-12e9-493a-b74c-60eb74c37154\">\n",
              "    <div class=\"colab-df-container\">\n",
              "      <div>\n",
              "<style scoped>\n",
              "    .dataframe tbody tr th:only-of-type {\n",
              "        vertical-align: middle;\n",
              "    }\n",
              "\n",
              "    .dataframe tbody tr th {\n",
              "        vertical-align: top;\n",
              "    }\n",
              "\n",
              "    .dataframe thead th {\n",
              "        text-align: right;\n",
              "    }\n",
              "</style>\n",
              "<table border=\"1\" class=\"dataframe\">\n",
              "  <thead>\n",
              "    <tr style=\"text-align: right;\">\n",
              "      <th></th>\n",
              "      <th>time_stamp</th>\n",
              "      <th>user_id</th>\n",
              "      <th>visited</th>\n",
              "    </tr>\n",
              "  </thead>\n",
              "  <tbody>\n",
              "    <tr>\n",
              "      <th>0</th>\n",
              "      <td>2014-04-22 03:53:30</td>\n",
              "      <td>1</td>\n",
              "      <td>1</td>\n",
              "    </tr>\n",
              "    <tr>\n",
              "      <th>1</th>\n",
              "      <td>2013-11-15 03:45:04</td>\n",
              "      <td>2</td>\n",
              "      <td>1</td>\n",
              "    </tr>\n",
              "    <tr>\n",
              "      <th>2</th>\n",
              "      <td>2013-11-29 03:45:04</td>\n",
              "      <td>2</td>\n",
              "      <td>1</td>\n",
              "    </tr>\n",
              "    <tr>\n",
              "      <th>3</th>\n",
              "      <td>2013-12-09 03:45:04</td>\n",
              "      <td>2</td>\n",
              "      <td>1</td>\n",
              "    </tr>\n",
              "    <tr>\n",
              "      <th>4</th>\n",
              "      <td>2013-12-25 03:45:04</td>\n",
              "      <td>2</td>\n",
              "      <td>1</td>\n",
              "    </tr>\n",
              "  </tbody>\n",
              "</table>\n",
              "</div>\n",
              "      <button class=\"colab-df-convert\" onclick=\"convertToInteractive('df-535892ce-12e9-493a-b74c-60eb74c37154')\"\n",
              "              title=\"Convert this dataframe to an interactive table.\"\n",
              "              style=\"display:none;\">\n",
              "        \n",
              "  <svg xmlns=\"http://www.w3.org/2000/svg\" height=\"24px\"viewBox=\"0 0 24 24\"\n",
              "       width=\"24px\">\n",
              "    <path d=\"M0 0h24v24H0V0z\" fill=\"none\"/>\n",
              "    <path d=\"M18.56 5.44l.94 2.06.94-2.06 2.06-.94-2.06-.94-.94-2.06-.94 2.06-2.06.94zm-11 1L8.5 8.5l.94-2.06 2.06-.94-2.06-.94L8.5 2.5l-.94 2.06-2.06.94zm10 10l.94 2.06.94-2.06 2.06-.94-2.06-.94-.94-2.06-.94 2.06-2.06.94z\"/><path d=\"M17.41 7.96l-1.37-1.37c-.4-.4-.92-.59-1.43-.59-.52 0-1.04.2-1.43.59L10.3 9.45l-7.72 7.72c-.78.78-.78 2.05 0 2.83L4 21.41c.39.39.9.59 1.41.59.51 0 1.02-.2 1.41-.59l7.78-7.78 2.81-2.81c.8-.78.8-2.07 0-2.86zM5.41 20L4 18.59l7.72-7.72 1.47 1.35L5.41 20z\"/>\n",
              "  </svg>\n",
              "      </button>\n",
              "      \n",
              "  <style>\n",
              "    .colab-df-container {\n",
              "      display:flex;\n",
              "      flex-wrap:wrap;\n",
              "      gap: 12px;\n",
              "    }\n",
              "\n",
              "    .colab-df-convert {\n",
              "      background-color: #E8F0FE;\n",
              "      border: none;\n",
              "      border-radius: 50%;\n",
              "      cursor: pointer;\n",
              "      display: none;\n",
              "      fill: #1967D2;\n",
              "      height: 32px;\n",
              "      padding: 0 0 0 0;\n",
              "      width: 32px;\n",
              "    }\n",
              "\n",
              "    .colab-df-convert:hover {\n",
              "      background-color: #E2EBFA;\n",
              "      box-shadow: 0px 1px 2px rgba(60, 64, 67, 0.3), 0px 1px 3px 1px rgba(60, 64, 67, 0.15);\n",
              "      fill: #174EA6;\n",
              "    }\n",
              "\n",
              "    [theme=dark] .colab-df-convert {\n",
              "      background-color: #3B4455;\n",
              "      fill: #D2E3FC;\n",
              "    }\n",
              "\n",
              "    [theme=dark] .colab-df-convert:hover {\n",
              "      background-color: #434B5C;\n",
              "      box-shadow: 0px 1px 3px 1px rgba(0, 0, 0, 0.15);\n",
              "      filter: drop-shadow(0px 1px 2px rgba(0, 0, 0, 0.3));\n",
              "      fill: #FFFFFF;\n",
              "    }\n",
              "  </style>\n",
              "\n",
              "      <script>\n",
              "        const buttonEl =\n",
              "          document.querySelector('#df-535892ce-12e9-493a-b74c-60eb74c37154 button.colab-df-convert');\n",
              "        buttonEl.style.display =\n",
              "          google.colab.kernel.accessAllowed ? 'block' : 'none';\n",
              "\n",
              "        async function convertToInteractive(key) {\n",
              "          const element = document.querySelector('#df-535892ce-12e9-493a-b74c-60eb74c37154');\n",
              "          const dataTable =\n",
              "            await google.colab.kernel.invokeFunction('convertToInteractive',\n",
              "                                                     [key], {});\n",
              "          if (!dataTable) return;\n",
              "\n",
              "          const docLinkHtml = 'Like what you see? Visit the ' +\n",
              "            '<a target=\"_blank\" href=https://colab.research.google.com/notebooks/data_table.ipynb>data table notebook</a>'\n",
              "            + ' to learn more about interactive tables.';\n",
              "          element.innerHTML = '';\n",
              "          dataTable['output_type'] = 'display_data';\n",
              "          await google.colab.output.renderOutput(dataTable, element);\n",
              "          const docLink = document.createElement('div');\n",
              "          docLink.innerHTML = docLinkHtml;\n",
              "          element.appendChild(docLink);\n",
              "        }\n",
              "      </script>\n",
              "    </div>\n",
              "  </div>\n",
              "  "
            ]
          },
          "metadata": {},
          "execution_count": 32
        }
      ]
    },
    {
      "cell_type": "code",
      "source": [
        "df2.info()"
      ],
      "metadata": {
        "colab": {
          "base_uri": "https://localhost:8080/"
        },
        "id": "S2zV6A7iRYAE",
        "outputId": "2572cd98-5f02-4451-afb0-65610a6e44ae"
      },
      "execution_count": 35,
      "outputs": [
        {
          "output_type": "stream",
          "name": "stdout",
          "text": [
            "<class 'pandas.core.frame.DataFrame'>\n",
            "RangeIndex: 207917 entries, 0 to 207916\n",
            "Data columns (total 3 columns):\n",
            " #   Column      Non-Null Count   Dtype \n",
            "---  ------      --------------   ----- \n",
            " 0   time_stamp  207917 non-null  object\n",
            " 1   user_id     207917 non-null  int64 \n",
            " 2   visited     207917 non-null  int64 \n",
            "dtypes: int64(2), object(1)\n",
            "memory usage: 4.8+ MB\n"
          ]
        }
      ]
    },
    {
      "cell_type": "code",
      "source": [
        "#To deal with date/time values\n",
        "def get_date_int(df, column):\n",
        "    year = df[column].dt.year\n",
        "    month = df[column].dt.month\n",
        "    day = df[column].dt.day\n",
        "    return year, month, day\n",
        "\n",
        "def get_week(x): return x.isocalendar()\n",
        "\n",
        "def get_iso_date_int(df,column):\n",
        "    temp_df=pd.DataFrame(df[column].tolist(), index=df.index)\n",
        "    year,week,day=temp_df[0],temp_df[1],temp_df[2]\n",
        "    return year,week,day\n"
      ],
      "metadata": {
        "id": "m5bbLcnHSPNk"
      },
      "execution_count": 37,
      "outputs": []
    },
    {
      "cell_type": "code",
      "source": [
        "df1 = pd.read_csv('takehome_users.csv',encoding='ISO-8859-1')\n",
        "\n",
        "#code creation_time,last_session_time as date/time\n",
        "df1.creation_time = pd.to_datetime(df1['creation_time'])\n",
        "df1.last_session_creation_time = pd.to_datetime(df1['last_session_creation_time'])\n",
        "\n",
        "#change column heading\n",
        "df1['user_id'] = df1['object_id']\n",
        "\n",
        "#drop original column\n",
        "df1.drop('object_id', axis=1, inplace=True)\n",
        "\n",
        "#drop private information\n",
        "df1.drop(['name', 'email'], axis=1, inplace=True)\n",
        "\n",
        "df1.head()"
      ],
      "metadata": {
        "colab": {
          "base_uri": "https://localhost:8080/",
          "height": 206
        },
        "id": "GrO5EujISUob",
        "outputId": "6d5f3634-37bb-4091-8623-945fce0e0dc7"
      },
      "execution_count": 39,
      "outputs": [
        {
          "output_type": "execute_result",
          "data": {
            "text/plain": [
              "        creation_time creation_source    last_session_creation_time  \\\n",
              "0 2014-04-22 03:53:30    GUEST_INVITE 1970-01-01 00:00:01.398138810   \n",
              "1 2013-11-15 03:45:04      ORG_INVITE 1970-01-01 00:00:01.396237504   \n",
              "2 2013-03-19 23:14:52      ORG_INVITE 1970-01-01 00:00:01.363734892   \n",
              "3 2013-05-21 08:09:28    GUEST_INVITE 1970-01-01 00:00:01.369210168   \n",
              "4 2013-01-17 10:14:20    GUEST_INVITE 1970-01-01 00:00:01.358849660   \n",
              "\n",
              "   opted_in_to_mailing_list  enabled_for_marketing_drip  org_id  \\\n",
              "0                         1                           0      11   \n",
              "1                         0                           0       1   \n",
              "2                         0                           0      94   \n",
              "3                         0                           0       1   \n",
              "4                         0                           0     193   \n",
              "\n",
              "   invited_by_user_id  user_id  \n",
              "0             10803.0        1  \n",
              "1               316.0        2  \n",
              "2              1525.0        3  \n",
              "3              5151.0        4  \n",
              "4              5240.0        5  "
            ],
            "text/html": [
              "\n",
              "  <div id=\"df-1533649e-18c5-4fbf-bd10-237654afba45\">\n",
              "    <div class=\"colab-df-container\">\n",
              "      <div>\n",
              "<style scoped>\n",
              "    .dataframe tbody tr th:only-of-type {\n",
              "        vertical-align: middle;\n",
              "    }\n",
              "\n",
              "    .dataframe tbody tr th {\n",
              "        vertical-align: top;\n",
              "    }\n",
              "\n",
              "    .dataframe thead th {\n",
              "        text-align: right;\n",
              "    }\n",
              "</style>\n",
              "<table border=\"1\" class=\"dataframe\">\n",
              "  <thead>\n",
              "    <tr style=\"text-align: right;\">\n",
              "      <th></th>\n",
              "      <th>creation_time</th>\n",
              "      <th>creation_source</th>\n",
              "      <th>last_session_creation_time</th>\n",
              "      <th>opted_in_to_mailing_list</th>\n",
              "      <th>enabled_for_marketing_drip</th>\n",
              "      <th>org_id</th>\n",
              "      <th>invited_by_user_id</th>\n",
              "      <th>user_id</th>\n",
              "    </tr>\n",
              "  </thead>\n",
              "  <tbody>\n",
              "    <tr>\n",
              "      <th>0</th>\n",
              "      <td>2014-04-22 03:53:30</td>\n",
              "      <td>GUEST_INVITE</td>\n",
              "      <td>1970-01-01 00:00:01.398138810</td>\n",
              "      <td>1</td>\n",
              "      <td>0</td>\n",
              "      <td>11</td>\n",
              "      <td>10803.0</td>\n",
              "      <td>1</td>\n",
              "    </tr>\n",
              "    <tr>\n",
              "      <th>1</th>\n",
              "      <td>2013-11-15 03:45:04</td>\n",
              "      <td>ORG_INVITE</td>\n",
              "      <td>1970-01-01 00:00:01.396237504</td>\n",
              "      <td>0</td>\n",
              "      <td>0</td>\n",
              "      <td>1</td>\n",
              "      <td>316.0</td>\n",
              "      <td>2</td>\n",
              "    </tr>\n",
              "    <tr>\n",
              "      <th>2</th>\n",
              "      <td>2013-03-19 23:14:52</td>\n",
              "      <td>ORG_INVITE</td>\n",
              "      <td>1970-01-01 00:00:01.363734892</td>\n",
              "      <td>0</td>\n",
              "      <td>0</td>\n",
              "      <td>94</td>\n",
              "      <td>1525.0</td>\n",
              "      <td>3</td>\n",
              "    </tr>\n",
              "    <tr>\n",
              "      <th>3</th>\n",
              "      <td>2013-05-21 08:09:28</td>\n",
              "      <td>GUEST_INVITE</td>\n",
              "      <td>1970-01-01 00:00:01.369210168</td>\n",
              "      <td>0</td>\n",
              "      <td>0</td>\n",
              "      <td>1</td>\n",
              "      <td>5151.0</td>\n",
              "      <td>4</td>\n",
              "    </tr>\n",
              "    <tr>\n",
              "      <th>4</th>\n",
              "      <td>2013-01-17 10:14:20</td>\n",
              "      <td>GUEST_INVITE</td>\n",
              "      <td>1970-01-01 00:00:01.358849660</td>\n",
              "      <td>0</td>\n",
              "      <td>0</td>\n",
              "      <td>193</td>\n",
              "      <td>5240.0</td>\n",
              "      <td>5</td>\n",
              "    </tr>\n",
              "  </tbody>\n",
              "</table>\n",
              "</div>\n",
              "      <button class=\"colab-df-convert\" onclick=\"convertToInteractive('df-1533649e-18c5-4fbf-bd10-237654afba45')\"\n",
              "              title=\"Convert this dataframe to an interactive table.\"\n",
              "              style=\"display:none;\">\n",
              "        \n",
              "  <svg xmlns=\"http://www.w3.org/2000/svg\" height=\"24px\"viewBox=\"0 0 24 24\"\n",
              "       width=\"24px\">\n",
              "    <path d=\"M0 0h24v24H0V0z\" fill=\"none\"/>\n",
              "    <path d=\"M18.56 5.44l.94 2.06.94-2.06 2.06-.94-2.06-.94-.94-2.06-.94 2.06-2.06.94zm-11 1L8.5 8.5l.94-2.06 2.06-.94-2.06-.94L8.5 2.5l-.94 2.06-2.06.94zm10 10l.94 2.06.94-2.06 2.06-.94-2.06-.94-.94-2.06-.94 2.06-2.06.94z\"/><path d=\"M17.41 7.96l-1.37-1.37c-.4-.4-.92-.59-1.43-.59-.52 0-1.04.2-1.43.59L10.3 9.45l-7.72 7.72c-.78.78-.78 2.05 0 2.83L4 21.41c.39.39.9.59 1.41.59.51 0 1.02-.2 1.41-.59l7.78-7.78 2.81-2.81c.8-.78.8-2.07 0-2.86zM5.41 20L4 18.59l7.72-7.72 1.47 1.35L5.41 20z\"/>\n",
              "  </svg>\n",
              "      </button>\n",
              "      \n",
              "  <style>\n",
              "    .colab-df-container {\n",
              "      display:flex;\n",
              "      flex-wrap:wrap;\n",
              "      gap: 12px;\n",
              "    }\n",
              "\n",
              "    .colab-df-convert {\n",
              "      background-color: #E8F0FE;\n",
              "      border: none;\n",
              "      border-radius: 50%;\n",
              "      cursor: pointer;\n",
              "      display: none;\n",
              "      fill: #1967D2;\n",
              "      height: 32px;\n",
              "      padding: 0 0 0 0;\n",
              "      width: 32px;\n",
              "    }\n",
              "\n",
              "    .colab-df-convert:hover {\n",
              "      background-color: #E2EBFA;\n",
              "      box-shadow: 0px 1px 2px rgba(60, 64, 67, 0.3), 0px 1px 3px 1px rgba(60, 64, 67, 0.15);\n",
              "      fill: #174EA6;\n",
              "    }\n",
              "\n",
              "    [theme=dark] .colab-df-convert {\n",
              "      background-color: #3B4455;\n",
              "      fill: #D2E3FC;\n",
              "    }\n",
              "\n",
              "    [theme=dark] .colab-df-convert:hover {\n",
              "      background-color: #434B5C;\n",
              "      box-shadow: 0px 1px 3px 1px rgba(0, 0, 0, 0.15);\n",
              "      filter: drop-shadow(0px 1px 2px rgba(0, 0, 0, 0.3));\n",
              "      fill: #FFFFFF;\n",
              "    }\n",
              "  </style>\n",
              "\n",
              "      <script>\n",
              "        const buttonEl =\n",
              "          document.querySelector('#df-1533649e-18c5-4fbf-bd10-237654afba45 button.colab-df-convert');\n",
              "        buttonEl.style.display =\n",
              "          google.colab.kernel.accessAllowed ? 'block' : 'none';\n",
              "\n",
              "        async function convertToInteractive(key) {\n",
              "          const element = document.querySelector('#df-1533649e-18c5-4fbf-bd10-237654afba45');\n",
              "          const dataTable =\n",
              "            await google.colab.kernel.invokeFunction('convertToInteractive',\n",
              "                                                     [key], {});\n",
              "          if (!dataTable) return;\n",
              "\n",
              "          const docLinkHtml = 'Like what you see? Visit the ' +\n",
              "            '<a target=\"_blank\" href=https://colab.research.google.com/notebooks/data_table.ipynb>data table notebook</a>'\n",
              "            + ' to learn more about interactive tables.';\n",
              "          element.innerHTML = '';\n",
              "          dataTable['output_type'] = 'display_data';\n",
              "          await google.colab.output.renderOutput(dataTable, element);\n",
              "          const docLink = document.createElement('div');\n",
              "          docLink.innerHTML = docLinkHtml;\n",
              "          element.appendChild(docLink);\n",
              "        }\n",
              "      </script>\n",
              "    </div>\n",
              "  </div>\n",
              "  "
            ]
          },
          "metadata": {},
          "execution_count": 39
        }
      ]
    },
    {
      "cell_type": "code",
      "source": [
        "df1.info()"
      ],
      "metadata": {
        "colab": {
          "base_uri": "https://localhost:8080/"
        },
        "id": "VMAXL_QbSYyo",
        "outputId": "f3f31b88-551c-46b3-e2c1-57dfeb8171cf"
      },
      "execution_count": 40,
      "outputs": [
        {
          "output_type": "stream",
          "name": "stdout",
          "text": [
            "<class 'pandas.core.frame.DataFrame'>\n",
            "RangeIndex: 12000 entries, 0 to 11999\n",
            "Data columns (total 8 columns):\n",
            " #   Column                      Non-Null Count  Dtype         \n",
            "---  ------                      --------------  -----         \n",
            " 0   creation_time               12000 non-null  datetime64[ns]\n",
            " 1   creation_source             12000 non-null  object        \n",
            " 2   last_session_creation_time  8823 non-null   datetime64[ns]\n",
            " 3   opted_in_to_mailing_list    12000 non-null  int64         \n",
            " 4   enabled_for_marketing_drip  12000 non-null  int64         \n",
            " 5   org_id                      12000 non-null  int64         \n",
            " 6   invited_by_user_id          6417 non-null   float64       \n",
            " 7   user_id                     12000 non-null  int64         \n",
            "dtypes: datetime64[ns](2), float64(1), int64(4), object(1)\n",
            "memory usage: 750.1+ KB\n"
          ]
        }
      ]
    },
    {
      "cell_type": "code",
      "source": [
        "#make user engagement time_stamp into date/time\n",
        "df2['time_stamp'] = pd.to_datetime(df2['time_stamp'])\n",
        "\n",
        "#Make a weekly unit for time stamp\n",
        "df2['week_time_stamp']=df2['time_stamp'].apply(get_week)\n",
        "\n",
        "#This is useful to know so we know where the start and finish of the trial exists\n",
        "print('First user engagement timestamp:',min(df2.time_stamp))\n",
        "print('Last user engagement timestamp:',max(df2.time_stamp))"
      ],
      "metadata": {
        "colab": {
          "base_uri": "https://localhost:8080/"
        },
        "id": "8BLuFsZNSr8Q",
        "outputId": "ad07b186-dd21-44aa-f7df-8f9bdbee772d"
      },
      "execution_count": 41,
      "outputs": [
        {
          "output_type": "stream",
          "name": "stdout",
          "text": [
            "First user engagement timestamp: 2012-05-31 08:20:06\n",
            "Last user engagement timestamp: 2014-06-06 14:58:50\n"
          ]
        }
      ]
    },
    {
      "cell_type": "code",
      "source": [
        "#Create Year,Month,Week,and Day units. To be fair I would be doing this regardless of use,\n",
        "# since I know I will be working with time its useful to have options for working with the data\n",
        "year, month, day=get_date_int(df2, 'time_stamp')\n",
        "df2['year'],df2['month'],df2['day']=year,month,day\n",
        "df2['week']=df2['time_stamp'].dt.week\n",
        "\n",
        "#Make year and week, So if we are dealing with 52 week units then I want year to make it individual unit of time\n",
        "iso_year,iso_week,iso_day=get_iso_date_int(df2,'week_time_stamp')\n",
        "df2['year_week']=list(zip(iso_year,iso_week))\n"
      ],
      "metadata": {
        "colab": {
          "base_uri": "https://localhost:8080/"
        },
        "id": "mgkaHFCdTIwC",
        "outputId": "4f2463e7-8afc-498a-acf9-65056cc66110"
      },
      "execution_count": 42,
      "outputs": [
        {
          "output_type": "stream",
          "name": "stderr",
          "text": [
            "<ipython-input-42-a4f65c98f379>:5: FutureWarning: Series.dt.weekofyear and Series.dt.week have been deprecated.  Please use Series.dt.isocalendar().week instead.\n",
            "  df2['week']=df2['time_stamp'].dt.week\n"
          ]
        }
      ]
    },
    {
      "cell_type": "code",
      "source": [
        "df2=df2.sort_values(['time_stamp','user_id'],ascending=True)\n",
        "df2=df2[['user_id','visited','day','year_week']]"
      ],
      "metadata": {
        "id": "NiK3B5LgTSEi"
      },
      "execution_count": 43,
      "outputs": []
    },
    {
      "cell_type": "markdown",
      "source": [
        "Label"
      ],
      "metadata": {
        "id": "1dY2H97uTcDy"
      }
    },
    {
      "cell_type": "code",
      "source": [
        "# Label dictionary\n",
        "adopted_user_dict={}\n",
        "\n",
        "#number of year/week units\n",
        "weeks=df2.year_week\n",
        "\n",
        "#individual user ids\n",
        "user_ids=list(set(df2['user_id']))\n",
        "\n",
        "#loop over user ids\n",
        "for i in range(len(user_ids)):\n",
        "    user_id=user_ids[i]\n",
        "    #dataframe for specific user that has duplicate records by week\n",
        "    reduced_df=df2[(df2['user_id']==user_id)&(weeks.isin(weeks[weeks.duplicated()]))]\n",
        "    #count the number of duplicate 'day' records of weeks if greater than 2 keep\n",
        "    week_counts=reduced_df.year_week.value_counts()[reduced_df.year_week.value_counts()>2]\n",
        "    three_logins=reduced_df[reduced_df.year_week.isin(list(week_counts.index))]\n",
        "    #remove duplicates of 3 day events within week\n",
        "    three_logins=three_logins[~three_logins.duplicated()]\n",
        "    #code user id and number of 3 day events\n",
        "    adopted_user_dict[str(user_id)]=len(three_logins)\n",
        "\n",
        "#apply the label dictionary to user ids coded to the column (engagement_index)\n",
        "df2['engagement_index']=df2['user_id'].apply(lambda x: adopted_user_dict[str(x)])\n",
        "\n",
        "#Code engagement_index as boolean values, which will be the adopted_user records\n",
        "df2['adopted_user']=0\n",
        "df2['adopted_user'][df2['engagement_index']>0]=1\n",
        "\n",
        "adopted_count=df2[['user_id','adopted_user']][df2['adopted_user']==1].groupby('user_id').count()\n",
        "print('Number of adopted users:',len(adopted_count))"
      ],
      "metadata": {
        "colab": {
          "base_uri": "https://localhost:8080/"
        },
        "id": "NUMz1YFrTd4U",
        "outputId": "e705e515-315b-4b98-fadf-76ad3d49c093"
      },
      "execution_count": 44,
      "outputs": [
        {
          "output_type": "stream",
          "name": "stdout",
          "text": [
            "Number of adopted users: 1445\n"
          ]
        },
        {
          "output_type": "stream",
          "name": "stderr",
          "text": [
            "<ipython-input-44-3141af508cef>:28: SettingWithCopyWarning: \n",
            "A value is trying to be set on a copy of a slice from a DataFrame\n",
            "\n",
            "See the caveats in the documentation: https://pandas.pydata.org/pandas-docs/stable/user_guide/indexing.html#returning-a-view-versus-a-copy\n",
            "  df2['adopted_user'][df2['engagement_index']>0]=1\n"
          ]
        }
      ]
    },
    {
      "cell_type": "markdown",
      "source": [
        "Merge"
      ],
      "metadata": {
        "id": "g2_3bPwFUO94"
      }
    },
    {
      "cell_type": "code",
      "source": [
        "#Narrow down the dataset for merging\n",
        "adopted=df2[['user_id','adopted_user']]\n",
        "#Merge the adopted user info to users dataframe\n",
        "adopted_users = pd.merge(df1, adopted, on='user_id', how='outer')\n",
        "\n",
        "creation_year, creation_month, creation_day=get_date_int(adopted_users, 'creation_time')\n",
        "last_session_year, last_session_month, last_session_day=get_date_int(adopted_users, 'last_session_creation_time')\n",
        "adopted_users['creation_year'],adopted_users['creation_month'],adopted_users['creation_day']=creation_year, creation_month, creation_day\n",
        "adopted_users['last_session_year'],adopted_users['last_session_month'],adopted_users['last_session_day']=last_session_year, last_session_month, last_session_day\n",
        "adopted_users.drop(['creation_time', 'last_session_creation_time', 'user_id'], axis=1, inplace=True)\n"
      ],
      "metadata": {
        "id": "5hnAUpBIUTCl"
      },
      "execution_count": 45,
      "outputs": []
    },
    {
      "cell_type": "code",
      "source": [
        "adopted_users.last_session_day.fillna(0, inplace=True)\n",
        "adopted_users.last_session_month.fillna(0, inplace=True)\n",
        "adopted_users.last_session_year.fillna(0, inplace=True)"
      ],
      "metadata": {
        "id": "NtBOJSzrUtKm"
      },
      "execution_count": 46,
      "outputs": []
    },
    {
      "cell_type": "markdown",
      "source": [
        "Model"
      ],
      "metadata": {
        "id": "4L1rI-AwUiS4"
      }
    },
    {
      "cell_type": "code",
      "source": [
        "from sklearn import preprocessing \n",
        "from sklearn.preprocessing import LabelEncoder\n",
        "le = preprocessing.LabelEncoder()\n",
        "adopted_users['creation_source']=le.fit_transform(adopted_users['creation_source'])"
      ],
      "metadata": {
        "id": "hMF8AHl9UlbA"
      },
      "execution_count": 47,
      "outputs": []
    },
    {
      "cell_type": "code",
      "source": [
        "adopted_users['invited'] = np.where(adopted_users['invited_by_user_id'].isnull(), 1, 0)\n",
        "adopted_users.drop('invited_by_user_id', axis=1, inplace=True)\n",
        "#Fill in the missings\n",
        "adopted_users=adopted_users.fillna(0)\n",
        "#Create column labels for output\n",
        "col_names=list(pd.Series(adopted_users.columns)[pd.Series(adopted_users.columns)!='adopted_user'])\n",
        "#Code as arrays\n",
        "X=adopted_users[list(pd.Series(adopted_users.columns)[pd.Series(adopted_users.columns)!='adopted_user'])].values\n",
        "y=adopted_users['adopted_user'].values\n"
      ],
      "metadata": {
        "id": "Ol6ma81DU08M"
      },
      "execution_count": 48,
      "outputs": []
    },
    {
      "cell_type": "code",
      "source": [
        "from sklearn.model_selection import train_test_split\n",
        "X_train, X_test, y_train, y_test = train_test_split(X,y,test_size = 0.3,random_state=3)\n",
        "print('Train size:',(len(X_train)/len(X))*100)\n",
        "print('Train observations:',(len(X_train)))\n",
        "print('Test size:',(len(X_test)/len(X))*100)\n",
        "print('Test observations:',(len(X_test)))\n"
      ],
      "metadata": {
        "colab": {
          "base_uri": "https://localhost:8080/"
        },
        "id": "oMH0F9F7U3tg",
        "outputId": "25c66761-e147-4aa2-d75d-59c6a90ffab4"
      },
      "execution_count": 49,
      "outputs": [
        {
          "output_type": "stream",
          "name": "stdout",
          "text": [
            "Train size: 69.99962102191441\n",
            "Train observations: 147765\n",
            "Test size: 30.00037897808559\n",
            "Test observations: 63329\n"
          ]
        }
      ]
    },
    {
      "cell_type": "markdown",
      "source": [
        "MATPLOTLIB"
      ],
      "metadata": {
        "id": "N0x4NWlcU88Y"
      }
    },
    {
      "cell_type": "code",
      "source": [
        "import matplotlib.pyplot as plt\n"
      ],
      "metadata": {
        "id": "X_eE5fDmVExB"
      },
      "execution_count": 50,
      "outputs": []
    },
    {
      "cell_type": "code",
      "source": [
        "from sklearn.decomposition import PCA\n",
        "from sklearn.metrics import accuracy_score, roc_auc_score, make_scorer\n",
        "from sklearn.model_selection import train_test_split, StratifiedKFold, GridSearchCV, cross_val_score\n",
        "from sklearn.ensemble import RandomForestClassifier\n",
        "\n",
        "clf = RandomForestClassifier(n_estimators=20,random_state=0,criterion='gini', class_weight='balanced')\n",
        "\n",
        "clf.fit(X_train, y_train.ravel())\n",
        "Accuracy=clf.score(X_train, y_train.ravel())\n",
        "print('Accuracy:',Accuracy,'\\n')\n",
        "\n",
        "importFeature = clf.feature_importances_\n",
        "feature_importances=pd.DataFrame([importFeature])\n",
        "\n",
        "std = np.std([tree.feature_importances_ for tree in clf.estimators_],axis=0)\n",
        "indices = np.argsort(importFeature)[::-1]\n",
        "\n",
        "# Print the feature ranking\n",
        "print(\"Feature ranking:\")\n",
        "\n",
        "# Plot the feature importances of the forest\n",
        "plt.figure()\n",
        "plt.title(\"Feature importances\")\n",
        "plt.bar(range(X.shape[1]), importFeature[indices],color=\"g\", yerr=std[indices], align=\"center\")\n",
        "plt.xticks(range(X.shape[1]), indices)\n",
        "plt.xlim([-1, X.shape[1]])\n",
        "plt.show()\n",
        "\n",
        "feature_importances=pd.DataFrame(pd.Series(col_names)[indices])\n",
        "feature_importances['importance']=np.sort(importFeature)[::-1]\n",
        "feature_importances.columns=['features','importance']\n",
        "feature_importances"
      ],
      "metadata": {
        "colab": {
          "base_uri": "https://localhost:8080/",
          "height": 713
        },
        "id": "imtZNncWVFxg",
        "outputId": "a8768d15-b5be-4d36-c452-25544dcd61dc"
      },
      "execution_count": 51,
      "outputs": [
        {
          "output_type": "stream",
          "name": "stdout",
          "text": [
            "Accuracy: 0.9999255574730146 \n",
            "\n",
            "Feature ranking:\n"
          ]
        },
        {
          "output_type": "display_data",
          "data": {
            "text/plain": [
              "<Figure size 432x288 with 1 Axes>"
            ],
            "image/png": "[encoded data removed]"
          },
          "metadata": {
            "needs_background": "light"
          }
        },
        {
          "output_type": "execute_result",
          "data": {
            "text/plain": [
              "                      features  importance\n",
              "3                       org_id    0.293394\n",
              "6                 creation_day    0.204772\n",
              "4                creation_year    0.170147\n",
              "5               creation_month    0.133685\n",
              "8           last_session_month    0.054419\n",
              "0              creation_source    0.038687\n",
              "9             last_session_day    0.036800\n",
              "7            last_session_year    0.030895\n",
              "1     opted_in_to_mailing_list    0.016536\n",
              "2   enabled_for_marketing_drip    0.013290\n",
              "10                     invited    0.007376"
            ],
            "text/html": [
              "\n",
              "  <div id=\"df-c1302b86-fa8a-4e51-b16e-0d77891c2766\">\n",
              "    <div class=\"colab-df-container\">\n",
              "      <div>\n",
              "<style scoped>\n",
              "    .dataframe tbody tr th:only-of-type {\n",
              "        vertical-align: middle;\n",
              "    }\n",
              "\n",
              "    .dataframe tbody tr th {\n",
              "        vertical-align: top;\n",
              "    }\n",
              "\n",
              "    .dataframe thead th {\n",
              "        text-align: right;\n",
              "    }\n",
              "</style>\n",
              "<table border=\"1\" class=\"dataframe\">\n",
              "  <thead>\n",
              "    <tr style=\"text-align: right;\">\n",
              "      <th></th>\n",
              "      <th>features</th>\n",
              "      <th>importance</th>\n",
              "    </tr>\n",
              "  </thead>\n",
              "  <tbody>\n",
              "    <tr>\n",
              "      <th>3</th>\n",
              "      <td>org_id</td>\n",
              "      <td>0.293394</td>\n",
              "    </tr>\n",
              "    <tr>\n",
              "      <th>6</th>\n",
              "      <td>creation_day</td>\n",
              "      <td>0.204772</td>\n",
              "    </tr>\n",
              "    <tr>\n",
              "      <th>4</th>\n",
              "      <td>creation_year</td>\n",
              "      <td>0.170147</td>\n",
              "    </tr>\n",
              "    <tr>\n",
              "      <th>5</th>\n",
              "      <td>creation_month</td>\n",
              "      <td>0.133685</td>\n",
              "    </tr>\n",
              "    <tr>\n",
              "      <th>8</th>\n",
              "      <td>last_session_month</td>\n",
              "      <td>0.054419</td>\n",
              "    </tr>\n",
              "    <tr>\n",
              "      <th>0</th>\n",
              "      <td>creation_source</td>\n",
              "      <td>0.038687</td>\n",
              "    </tr>\n",
              "    <tr>\n",
              "      <th>9</th>\n",
              "      <td>last_session_day</td>\n",
              "      <td>0.036800</td>\n",
              "    </tr>\n",
              "    <tr>\n",
              "      <th>7</th>\n",
              "      <td>last_session_year</td>\n",
              "      <td>0.030895</td>\n",
              "    </tr>\n",
              "    <tr>\n",
              "      <th>1</th>\n",
              "      <td>opted_in_to_mailing_list</td>\n",
              "      <td>0.016536</td>\n",
              "    </tr>\n",
              "    <tr>\n",
              "      <th>2</th>\n",
              "      <td>enabled_for_marketing_drip</td>\n",
              "      <td>0.013290</td>\n",
              "    </tr>\n",
              "    <tr>\n",
              "      <th>10</th>\n",
              "      <td>invited</td>\n",
              "      <td>0.007376</td>\n",
              "    </tr>\n",
              "  </tbody>\n",
              "</table>\n",
              "</div>\n",
              "      <button class=\"colab-df-convert\" onclick=\"convertToInteractive('df-c1302b86-fa8a-4e51-b16e-0d77891c2766')\"\n",
              "              title=\"Convert this dataframe to an interactive table.\"\n",
              "              style=\"display:none;\">\n",
              "        \n",
              "  <svg xmlns=\"http://www.w3.org/2000/svg\" height=\"24px\"viewBox=\"0 0 24 24\"\n",
              "       width=\"24px\">\n",
              "    <path d=\"M0 0h24v24H0V0z\" fill=\"none\"/>\n",
              "    <path d=\"M18.56 5.44l.94 2.06.94-2.06 2.06-.94-2.06-.94-.94-2.06-.94 2.06-2.06.94zm-11 1L8.5 8.5l.94-2.06 2.06-.94-2.06-.94L8.5 2.5l-.94 2.06-2.06.94zm10 10l.94 2.06.94-2.06 2.06-.94-2.06-.94-.94-2.06-.94 2.06-2.06.94z\"/><path d=\"M17.41 7.96l-1.37-1.37c-.4-.4-.92-.59-1.43-.59-.52 0-1.04.2-1.43.59L10.3 9.45l-7.72 7.72c-.78.78-.78 2.05 0 2.83L4 21.41c.39.39.9.59 1.41.59.51 0 1.02-.2 1.41-.59l7.78-7.78 2.81-2.81c.8-.78.8-2.07 0-2.86zM5.41 20L4 18.59l7.72-7.72 1.47 1.35L5.41 20z\"/>\n",
              "  </svg>\n",
              "      </button>\n",
              "      \n",
              "  <style>\n",
              "    .colab-df-container {\n",
              "      display:flex;\n",
              "      flex-wrap:wrap;\n",
              "      gap: 12px;\n",
              "    }\n",
              "\n",
              "    .colab-df-convert {\n",
              "      background-color: #E8F0FE;\n",
              "      border: none;\n",
              "      border-radius: 50%;\n",
              "      cursor: pointer;\n",
              "      display: none;\n",
              "      fill: #1967D2;\n",
              "      height: 32px;\n",
              "      padding: 0 0 0 0;\n",
              "      width: 32px;\n",
              "    }\n",
              "\n",
              "    .colab-df-convert:hover {\n",
              "      background-color: #E2EBFA;\n",
              "      box-shadow: 0px 1px 2px rgba(60, 64, 67, 0.3), 0px 1px 3px 1px rgba(60, 64, 67, 0.15);\n",
              "      fill: #174EA6;\n",
              "    }\n",
              "\n",
              "    [theme=dark] .colab-df-convert {\n",
              "      background-color: #3B4455;\n",
              "      fill: #D2E3FC;\n",
              "    }\n",
              "\n",
              "    [theme=dark] .colab-df-convert:hover {\n",
              "      background-color: #434B5C;\n",
              "      box-shadow: 0px 1px 3px 1px rgba(0, 0, 0, 0.15);\n",
              "      filter: drop-shadow(0px 1px 2px rgba(0, 0, 0, 0.3));\n",
              "      fill: #FFFFFF;\n",
              "    }\n",
              "  </style>\n",
              "\n",
              "      <script>\n",
              "        const buttonEl =\n",
              "          document.querySelector('#df-c1302b86-fa8a-4e51-b16e-0d77891c2766 button.colab-df-convert');\n",
              "        buttonEl.style.display =\n",
              "          google.colab.kernel.accessAllowed ? 'block' : 'none';\n",
              "\n",
              "        async function convertToInteractive(key) {\n",
              "          const element = document.querySelector('#df-c1302b86-fa8a-4e51-b16e-0d77891c2766');\n",
              "          const dataTable =\n",
              "            await google.colab.kernel.invokeFunction('convertToInteractive',\n",
              "                                                     [key], {});\n",
              "          if (!dataTable) return;\n",
              "\n",
              "          const docLinkHtml = 'Like what you see? Visit the ' +\n",
              "            '<a target=\"_blank\" href=https://colab.research.google.com/notebooks/data_table.ipynb>data table notebook</a>'\n",
              "            + ' to learn more about interactive tables.';\n",
              "          element.innerHTML = '';\n",
              "          dataTable['output_type'] = 'display_data';\n",
              "          await google.colab.output.renderOutput(dataTable, element);\n",
              "          const docLink = document.createElement('div');\n",
              "          docLink.innerHTML = docLinkHtml;\n",
              "          element.appendChild(docLink);\n",
              "        }\n",
              "      </script>\n",
              "    </div>\n",
              "  </div>\n",
              "  "
            ]
          },
          "metadata": {},
          "execution_count": 51
        }
      ]
    }
  ]
}